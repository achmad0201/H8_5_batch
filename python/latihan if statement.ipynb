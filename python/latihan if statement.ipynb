{
 "cells": [
  {
   "cell_type": "markdown",
   "metadata": {},
   "source": [
    "### Soal no 1"
   ]
  },
  {
   "cell_type": "code",
   "execution_count": 3,
   "metadata": {},
   "outputs": [
    {
     "name": "stdout",
     "output_type": "stream",
     "text": [
      "Umur: 11\n",
      "Anda adalah anak-anak\n"
     ]
    }
   ],
   "source": [
    "umur = int(input(\"Masukkan umur anda:\"))\n",
    "print(\"Umur:\", umur)\n",
    "\n",
    "if umur < 18:\n",
    "    print(\"Anda adalah anak-anak\")\n",
    "elif umur >=18 and umur <= 64 :\n",
    "    print(\"Anda adalah dewasa\")\n",
    "elif umur >= 65:\n",
    "    print(\"Anda adalah lanjut usia\")\n",
    "else:\n",
    "    print(\"Masukkan umur yang benar\")"
   ]
  },
  {
   "cell_type": "markdown",
   "metadata": {},
   "source": [
    "### Soal no 2"
   ]
  },
  {
   "cell_type": "code",
   "execution_count": 5,
   "metadata": {},
   "outputs": [
    {
     "name": "stdout",
     "output_type": "stream",
     "text": [
      "Total belanja: 101\n",
      "anda mendapatkan diskon 10%\n"
     ]
    }
   ],
   "source": [
    "total_belanja = int(input(\"Total belanja:\"))\n",
    "print(\"Total belanja:\", total_belanja)\n",
    "\n",
    "if total_belanja > 100:\n",
    "    print(\"anda mendapatkan diskon 10%\")\n",
    "else:\n",
    "    print(\"Anda tidak mendapatkan diskon\")"
   ]
  },
  {
   "cell_type": "markdown",
   "metadata": {},
   "source": [
    "### Soal no 3"
   ]
  },
  {
   "cell_type": "code",
   "execution_count": 14,
   "metadata": {},
   "outputs": [
    {
     "name": "stdout",
     "output_type": "stream",
     "text": [
      "Angka: 4\n",
      "angka genap\n"
     ]
    }
   ],
   "source": [
    "angka = int(input(\"Masukkan angka:\"))\n",
    "print(\"Angka:\", angka)\n",
    "\n",
    "if angka % 2 == 0:\n",
    "    print(\"angka genap\")\n",
    "else:\n",
    "    print(\"angka ganjil\")"
   ]
  },
  {
   "cell_type": "markdown",
   "metadata": {},
   "source": [
    "### Soal no 4"
   ]
  },
  {
   "cell_type": "code",
   "execution_count": 19,
   "metadata": {},
   "outputs": [
    {
     "name": "stdout",
     "output_type": "stream",
     "text": [
      "Angka pertama: 1\n",
      "Angka kedua: 5\n",
      "Angka ketiga: 2\n",
      "angka terbesar dari 1 5 2 adalah 5\n"
     ]
    }
   ],
   "source": [
    "angka_1 = int(input(\"Masukkan angka pertama:\"))\n",
    "angka_2 = int(input(\"Masukkan angka kedua:\"))\n",
    "angka_3 = int(input(\"Masukkan angka ketiga:\"))\n",
    "\n",
    "print(\"Angka pertama:\", angka_1)\n",
    "print(\"Angka kedua:\", angka_2)\n",
    "print(\"Angka ketiga:\", angka_3)\n",
    "\n",
    "if angka_1 >= angka_2 and angka_1 >= angka_3:\n",
    "    Angka_terbesar = angka_1\n",
    "elif angka_2 >= angka_1 and angka_2 >= angka_3:\n",
    "    Angka_terbesar = angka_2\n",
    "else:\n",
    "    Angka_terbesar = angka_3\n",
    "print(\"angka terbesar dari\", angka_1, angka_2, angka_3, \"adalah\", Angka_terbesar)"
   ]
  },
  {
   "cell_type": "code",
   "execution_count": 20,
   "metadata": {},
   "outputs": [
    {
     "name": "stdout",
     "output_type": "stream",
     "text": [
      "Kata sandi Anda VALID.\n"
     ]
    }
   ],
   "source": [
    "# Meminta input kata sandi dari pengguna\n",
    "kata_sandi = input(\"Masukkan kata sandi: \")\n",
    "\n",
    "# Inisialisasi variabel validasi\n",
    "valid_panjang = False\n",
    "valid_huruf_besar = False\n",
    "valid_angka = False\n",
    "\n",
    "# Validasi panjang kata sandi (minimal 8 karakter)\n",
    "if len(kata_sandi) >= 8:\n",
    "    valid_panjang = True\n",
    "\n",
    "# Validasi huruf besar\n",
    "for karakter in kata_sandi:\n",
    "    if karakter.isupper():\n",
    "        valid_huruf_besar = True\n",
    "        break\n",
    "\n",
    "# Validasi angka\n",
    "for karakter in kata_sandi:\n",
    "    if karakter.isdigit():\n",
    "        valid_angka = True\n",
    "        break\n",
    "\n",
    "# Memeriksa apakah kata sandi valid sesuai dengan semua persyaratan\n",
    "if valid_panjang and valid_huruf_besar and valid_angka:\n",
    "    print(\"Kata sandi Anda VALID.\")\n",
    "else:\n",
    "    print(\"Kata sandi Anda TIDAK VALID.\")"
   ]
  },
  {
   "cell_type": "code",
   "execution_count": null,
   "metadata": {},
   "outputs": [],
   "source": []
  }
 ],
 "metadata": {
  "kernelspec": {
   "display_name": "base",
   "language": "python",
   "name": "python3"
  },
  "language_info": {
   "codemirror_mode": {
    "name": "ipython",
    "version": 3
   },
   "file_extension": ".py",
   "mimetype": "text/x-python",
   "name": "python",
   "nbconvert_exporter": "python",
   "pygments_lexer": "ipython3",
   "version": "3.11.4"
  },
  "orig_nbformat": 4
 },
 "nbformat": 4,
 "nbformat_minor": 2
}
