{
 "cells": [
  {
   "cell_type": "code",
   "execution_count": 2,
   "metadata": {},
   "outputs": [],
   "source": [
    "import numpy as np"
   ]
  },
  {
   "cell_type": "markdown",
   "metadata": {},
   "source": [
    "### Soal no 1"
   ]
  },
  {
   "cell_type": "code",
   "execution_count": 1,
   "metadata": {},
   "outputs": [
    {
     "name": "stdout",
     "output_type": "stream",
     "text": [
      "Mulai: 1\n",
      "Selesai 50\n"
     ]
    },
    {
     "ename": "NameError",
     "evalue": "name 'np' is not defined",
     "output_type": "error",
     "traceback": [
      "\u001b[1;31m---------------------------------------------------------------------------\u001b[0m",
      "\u001b[1;31mNameError\u001b[0m                                 Traceback (most recent call last)",
      "Cell \u001b[1;32mIn[1], line 7\u001b[0m\n\u001b[0;32m      4\u001b[0m \u001b[39mprint\u001b[39m(\u001b[39m\"\u001b[39m\u001b[39mMulai:\u001b[39m\u001b[39m\"\u001b[39m, start)\n\u001b[0;32m      5\u001b[0m \u001b[39mprint\u001b[39m(\u001b[39m\"\u001b[39m\u001b[39mSelesai\u001b[39m\u001b[39m\"\u001b[39m, end)\n\u001b[1;32m----> 7\u001b[0m array \u001b[39m=\u001b[39m np\u001b[39m.\u001b[39marange(start, end)\n\u001b[0;32m      8\u001b[0m \u001b[39mprint\u001b[39m(array)\n\u001b[0;32m     10\u001b[0m array_2d \u001b[39m=\u001b[39m array\u001b[39m.\u001b[39mreshape(\u001b[39m3\u001b[39m,\u001b[39m9\u001b[39m)\n",
      "\u001b[1;31mNameError\u001b[0m: name 'np' is not defined"
     ]
    }
   ],
   "source": [
    "start = int(input(\"Mulai : \"))\n",
    "end = int(input(\"selesai: \"))\n",
    "\n",
    "print(\"Mulai:\", start)\n",
    "print(\"Selesai\", end)\n",
    "\n",
    "array = np.arange(start, end)\n",
    "print(array)\n",
    "\n",
    "array_2d = array.reshape(3,9)\n",
    "print(\"array_2dimensi\", array_2d)\n",
    "\n",
    "array_3d = array.reshape(9,3)\n",
    "print(\"array_3dimensi\",array_3d)"
   ]
  },
  {
   "cell_type": "markdown",
   "metadata": {},
   "source": [
    "### Soal no 2"
   ]
  },
  {
   "cell_type": "code",
   "execution_count": 4,
   "metadata": {},
   "outputs": [
    {
     "name": "stdout",
     "output_type": "stream",
     "text": [
      "Banyak data: 16\n",
      "Mulai: 1\n",
      "Selesai 50\n",
      "[24 12 40 37  8 15 39  6 15 33  9 47 47  7 47 10]\n",
      "array 2 dimensi: [[24 12 40 37]\n",
      " [ 8 15 39  6]\n",
      " [15 33  9 47]\n",
      " [47  7 47 10]]\n",
      "array transpose: [[24  8 15 47]\n",
      " [12 15 33  7]\n",
      " [40 39  9 47]\n",
      " [37  6 47 10]]\n"
     ]
    }
   ],
   "source": [
    "Banyak_data = int(input(\"Banyak data : \"))\n",
    "start = int(input(\"Mulai : \"))\n",
    "end = int(input(\"selesai: \"))\n",
    "\n",
    "print(\"Banyak data:\", Banyak_data)\n",
    "print(\"Mulai:\", start)\n",
    "print(\"Selesai\", end)\n",
    "\n",
    "array = np.random.randint(start, end, Banyak_data)\n",
    "print(array)\n",
    "    \n",
    "array_2d = array.reshape(4,4)\n",
    "\n",
    "print(\"array 2 dimensi:\", array_2d)\n",
    "\n",
    "array_transpose = np.transpose(array_2d)\n",
    "print(\"array transpose:\", array_transpose)"
   ]
  },
  {
   "cell_type": "code",
   "execution_count": null,
   "metadata": {},
   "outputs": [],
   "source": []
  }
 ],
 "metadata": {
  "kernelspec": {
   "display_name": "base",
   "language": "python",
   "name": "python3"
  },
  "language_info": {
   "codemirror_mode": {
    "name": "ipython",
    "version": 3
   },
   "file_extension": ".py",
   "mimetype": "text/x-python",
   "name": "python",
   "nbconvert_exporter": "python",
   "pygments_lexer": "ipython3",
   "version": "3.11.4"
  },
  "orig_nbformat": 4
 },
 "nbformat": 4,
 "nbformat_minor": 2
}
