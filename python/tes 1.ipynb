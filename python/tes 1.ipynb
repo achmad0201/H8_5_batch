{
 "cells": [
  {
   "cell_type": "code",
   "execution_count": 2,
   "metadata": {},
   "outputs": [
    {
     "name": "stdout",
     "output_type": "stream",
     "text": [
      "[1, 2, 3]\n"
     ]
    }
   ],
   "source": [
    "my_list = [1, 2, 3]\n",
    "print(my_list)"
   ]
  },
  {
   "cell_type": "code",
   "execution_count": 3,
   "metadata": {},
   "outputs": [
    {
     "data": {
      "text/plain": [
       "[1, 2, 3, 5, 6]"
      ]
     },
     "execution_count": 3,
     "metadata": {},
     "output_type": "execute_result"
    }
   ],
   "source": [
    "my_list + [5, 6]"
   ]
  },
  {
   "cell_type": "code",
   "execution_count": 4,
   "metadata": {},
   "outputs": [],
   "source": [
    "my_list.append(4)"
   ]
  },
  {
   "cell_type": "code",
   "execution_count": 5,
   "metadata": {},
   "outputs": [
    {
     "name": "stdout",
     "output_type": "stream",
     "text": [
      "[1, 2, 3, 4]\n"
     ]
    }
   ],
   "source": [
    "print(my_list)"
   ]
  },
  {
   "cell_type": "code",
   "execution_count": 6,
   "metadata": {},
   "outputs": [
    {
     "name": "stdout",
     "output_type": "stream",
     "text": [
      "[1, 2, 3, 4, 7, 8, 9]\n"
     ]
    }
   ],
   "source": [
    "my_list.extend([7, 8, 9])\n",
    "print(my_list)"
   ]
  },
  {
   "cell_type": "code",
   "execution_count": 7,
   "metadata": {},
   "outputs": [],
   "source": [
    "my_list.remove(4)"
   ]
  },
  {
   "cell_type": "code",
   "execution_count": 8,
   "metadata": {},
   "outputs": [
    {
     "data": {
      "text/plain": [
       "[1, 2, 3, 7, 8, 9]"
      ]
     },
     "execution_count": 8,
     "metadata": {},
     "output_type": "execute_result"
    }
   ],
   "source": [
    "my_list"
   ]
  },
  {
   "cell_type": "code",
   "execution_count": 9,
   "metadata": {},
   "outputs": [
    {
     "name": "stdout",
     "output_type": "stream",
     "text": [
      "{'name': 'bar', 'age': 20}\n"
     ]
    }
   ],
   "source": [
    "student = {'name': 'bar', 'age': 20}\n",
    "print(student)"
   ]
  },
  {
   "cell_type": "code",
   "execution_count": 16,
   "metadata": {},
   "outputs": [
    {
     "name": "stdout",
     "output_type": "stream",
     "text": [
      "bar\n"
     ]
    }
   ],
   "source": [
    "print(student['name'])"
   ]
  },
  {
   "cell_type": "code",
   "execution_count": 19,
   "metadata": {},
   "outputs": [],
   "source": [
    "student['umur'] = 30"
   ]
  },
  {
   "cell_type": "code",
   "execution_count": 20,
   "metadata": {},
   "outputs": [
    {
     "name": "stdout",
     "output_type": "stream",
     "text": [
      "{'name': 'bar', 'age': 20, 3: 'umur', 'umur': 30}\n"
     ]
    }
   ],
   "source": [
    "print(student)"
   ]
  },
  {
   "cell_type": "code",
   "execution_count": 21,
   "metadata": {},
   "outputs": [],
   "source": [
    "del student[3]"
   ]
  },
  {
   "cell_type": "code",
   "execution_count": 22,
   "metadata": {},
   "outputs": [
    {
     "name": "stdout",
     "output_type": "stream",
     "text": [
      "{'name': 'bar', 'age': 20, 'umur': 30}\n"
     ]
    }
   ],
   "source": [
    "print(student)"
   ]
  },
  {
   "cell_type": "code",
   "execution_count": 23,
   "metadata": {},
   "outputs": [],
   "source": [
    "people = ('bar', ('kode', 'random'))"
   ]
  },
  {
   "cell_type": "code",
   "execution_count": 24,
   "metadata": {},
   "outputs": [
    {
     "name": "stdout",
     "output_type": "stream",
     "text": [
      "('bar', ('kode', 'random'))\n"
     ]
    }
   ],
   "source": [
    "print(people)"
   ]
  },
  {
   "cell_type": "code",
   "execution_count": 26,
   "metadata": {},
   "outputs": [
    {
     "name": "stdout",
     "output_type": "stream",
     "text": [
      "(1, (2, 3, 6))\n"
     ]
    }
   ],
   "source": [
    "numbers = (1, 2, 3, 6, 5)\n",
    "new_numbers = numbers[0], numbers[1:4]\n",
    "print(new_numbers)"
   ]
  },
  {
   "cell_type": "code",
   "execution_count": 28,
   "metadata": {},
   "outputs": [
    {
     "ename": "TypeError",
     "evalue": "'tuple' object does not support item assignment",
     "output_type": "error",
     "traceback": [
      "\u001b[1;31m---------------------------------------------------------------------------\u001b[0m",
      "\u001b[1;31mTypeError\u001b[0m                                 Traceback (most recent call last)",
      "Cell \u001b[1;32mIn[28], line 2\u001b[0m\n\u001b[0;32m      1\u001b[0m atuple \u001b[39m=\u001b[39m (\u001b[39m100\u001b[39m, \u001b[39m200\u001b[39m, \u001b[39m300\u001b[39m, \u001b[39m400\u001b[39m, \u001b[39m500\u001b[39m)\n\u001b[1;32m----> 2\u001b[0m atuple[\u001b[39m1\u001b[39m] \u001b[39m=\u001b[39m \u001b[39m800\u001b[39m\n\u001b[0;32m      3\u001b[0m \u001b[39mprint\u001b[39m(atuple)\n",
      "\u001b[1;31mTypeError\u001b[0m: 'tuple' object does not support item assignment"
     ]
    }
   ],
   "source": [
    "atuple = (100, 200, 300, 400, 500)\n",
    "atuple[1] = 800\n",
    "print(atuple)"
   ]
  },
  {
   "cell_type": "code",
   "execution_count": 34,
   "metadata": {},
   "outputs": [
    {
     "name": "stdout",
     "output_type": "stream",
     "text": [
      "\n",
      "Input 2 angka (dipisah dengan enter): \n",
      "Angka ke-1: Angka ke-2: \n",
      "Angka terbesar adalah: 30\n"
     ]
    }
   ],
   "source": [
    "n = int(input('Input jumlah element list: '))\n",
    "print()\n",
    " \n",
    "print('Input',n,'angka (dipisah dengan enter): ');\n",
    " \n",
    "# simpan setiap angka yang diinput ke dalam list\n",
    "x = []\n",
    "for i in range(n):\n",
    "  print('Angka ke-',i+1,': ',sep='',end='')\n",
    "  x.append(int(input()))\n",
    " \n",
    "print()\n",
    " \n",
    "# proses mencari nilai terbesar\n",
    "max_num = x[0];\n",
    "for i in range(1,n):\n",
    "  if(x[i] > max_num):\n",
    "    max_num = x[i];\n",
    "   \n",
    "print('Angka terbesar adalah:', max_num);"
   ]
  },
  {
   "cell_type": "code",
   "execution_count": 2,
   "metadata": {},
   "outputs": [
    {
     "name": "stdout",
     "output_type": "stream",
     "text": [
      "2\n",
      "3\n",
      "4\n"
     ]
    }
   ],
   "source": [
    "for word in [2, 3, 4]:\n",
    "    print(word, end='\\n')"
   ]
  },
  {
   "cell_type": "code",
   "execution_count": 3,
   "metadata": {},
   "outputs": [
    {
     "name": "stdout",
     "output_type": "stream",
     "text": [
      "100\n"
     ]
    }
   ],
   "source": [
    "x = 0\n",
    "while (x < 100):\n",
    "    x += 2\n",
    "print(x)"
   ]
  },
  {
   "cell_type": "code",
   "execution_count": 5,
   "metadata": {},
   "outputs": [
    {
     "name": "stdout",
     "output_type": "stream",
     "text": [
      "i,d,a,z,"
     ]
    }
   ],
   "source": [
    "for l in 'idaz':\n",
    "    if l == 'a':\n",
    "        pass\n",
    "    print(l, end=',')    "
   ]
  },
  {
   "cell_type": "code",
   "execution_count": 6,
   "metadata": {},
   "outputs": [
    {
     "name": "stdout",
     "output_type": "stream",
     "text": [
      "##  Program Python Cari Nilai Terbesar  ##\n",
      "==========================================\n",
      "\n",
      "\n",
      "Input 5 angka (dipisah dengan enter): \n",
      "Angka ke-1: Angka ke-2: Angka ke-3: Angka ke-4: Angka ke-5: \n",
      "Angka terbesar adalah: 5\n"
     ]
    }
   ],
   "source": [
    "print('##  Program Python Cari Nilai Terbesar  ##')\n",
    "print('==========================================')\n",
    "print()\n",
    "  \n",
    "n = int(input('Input jumlah element list: '))\n",
    "print()\n",
    " \n",
    "print('Input',n,'angka (dipisah dengan enter): ');\n",
    " \n",
    "# simpan setiap angka yang diinput ke dalam list\n",
    "x = []\n",
    "for i in range(n):\n",
    "  print('Angka ke-',i+1,': ',sep='',end='')\n",
    "  x.append(int(input()))\n",
    " \n",
    "print()\n",
    " \n",
    "# proses mencari nilai terbesar\n",
    "max_num = x[0];\n",
    "for i in range(1,n):\n",
    "  if(x[i] > max_num):\n",
    "    max_num = x[i];\n",
    "   \n",
    "print('Angka terbesar adalah:', max_num);"
   ]
  },
  {
   "cell_type": "code",
   "execution_count": 17,
   "metadata": {},
   "outputs": [
    {
     "name": "stdout",
     "output_type": "stream",
     "text": [
      "Angka ke:1: \n",
      "Angka ke:2: \n",
      "[3, 4]\n"
     ]
    }
   ],
   "source": [
    "x = int(input(\"Masukkan angka:\"))\n",
    "n = []\n",
    "\n",
    "for i in range(x):\n",
    "    print(\"Angka ke:\", i+1, ': ', sep='', end='\\n')\n",
    "    n.append(int(input()))\n",
    "print(n)"
   ]
  },
  {
   "cell_type": "code",
   "execution_count": 33,
   "metadata": {},
   "outputs": [
    {
     "name": "stdout",
     "output_type": "stream",
     "text": [
      "Tua\n",
      "perempuan\n"
     ]
    }
   ],
   "source": [
    "umur = int(input(\"Masukkan umur:\"))\n",
    "gender = input(\"Masukkan gender:\")\n",
    "\n",
    "if umur <= 18:\n",
    "    print('anak-anak')\n",
    "    if gender == 'm':\n",
    "        print('laki-laki')\n",
    "    else:\n",
    "        print('perempuan')\n",
    "\n",
    "elif umur > 18 and umur <= 64:\n",
    "    print('dewasa')\n",
    "    if gender == 'm':\n",
    "        print('laki-laki')\n",
    "    else:\n",
    "        print('perempuan') \n",
    "\n",
    "elif umur > 64: \n",
    "    print('Tua')\n",
    "    if gender == 'm':\n",
    "        print('laki-laki')\n",
    "    else:\n",
    "        print('perempuan') \n",
    "\n",
    "else:\n",
    "    print(\"Masukkan yang benar\")"
   ]
  },
  {
   "cell_type": "code",
   "execution_count": 35,
   "metadata": {},
   "outputs": [],
   "source": [
    "x = 10\n",
    "y = 50\n",
    "if (x**2 > 100 and y < 100):\n",
    "    print(x, y)\n"
   ]
  },
  {
   "cell_type": "code",
   "execution_count": 2,
   "metadata": {},
   "outputs": [
    {
     "ename": "NameError",
     "evalue": "name 'outer' is not defined",
     "output_type": "error",
     "traceback": [
      "\u001b[1;31m---------------------------------------------------------------------------\u001b[0m",
      "\u001b[1;31mNameError\u001b[0m                                 Traceback (most recent call last)",
      "Cell \u001b[1;32mIn[2], line 5\u001b[0m\n\u001b[0;32m      3\u001b[0m         \u001b[39mreturn\u001b[39;00m c \u001b[39m+\u001b[39m d\n\u001b[0;32m      4\u001b[0m     \u001b[39mreturn\u001b[39;00m innerfun(a, b)\n\u001b[1;32m----> 5\u001b[0m res \u001b[39m=\u001b[39m outer\n\u001b[0;32m      6\u001b[0m fun(\u001b[39m5\u001b[39m, \u001b[39m10\u001b[39m)\n\u001b[0;32m      7\u001b[0m \u001b[39mprint\u001b[39m(res)\n",
      "\u001b[1;31mNameError\u001b[0m: name 'outer' is not defined"
     ]
    }
   ],
   "source": [
    "def outerfun(a, b):\n",
    "    def innerfun(c, d):\n",
    "        return c + d\n",
    "    return innerfun(a, b)\n",
    "res = outer\n",
    "fun(5, 10)\n",
    "print(res)"
   ]
  },
  {
   "cell_type": "code",
   "execution_count": null,
   "metadata": {},
   "outputs": [],
   "source": []
  }
 ],
 "metadata": {
  "kernelspec": {
   "display_name": "base",
   "language": "python",
   "name": "python3"
  },
  "language_info": {
   "codemirror_mode": {
    "name": "ipython",
    "version": 3
   },
   "file_extension": ".py",
   "mimetype": "text/x-python",
   "name": "python",
   "nbconvert_exporter": "python",
   "pygments_lexer": "ipython3",
   "version": "3.11.4"
  },
  "orig_nbformat": 4
 },
 "nbformat": 4,
 "nbformat_minor": 2
}
