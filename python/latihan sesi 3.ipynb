{
 "cells": [
  {
   "cell_type": "markdown",
   "metadata": {},
   "source": [
    "### Soal 1"
   ]
  },
  {
   "cell_type": "code",
   "execution_count": 99,
   "metadata": {},
   "outputs": [
    {
     "ename": "ValueError",
     "evalue": "invalid literal for int() with base 10: '2 5 10'",
     "output_type": "error",
     "traceback": [
      "\u001b[1;31m---------------------------------------------------------------------------\u001b[0m",
      "\u001b[1;31mValueError\u001b[0m                                Traceback (most recent call last)",
      "Cell \u001b[1;32mIn[99], line 8\u001b[0m\n\u001b[0;32m      5\u001b[0m     \u001b[39mprint\u001b[39m(multiplied)\n\u001b[0;32m      6\u001b[0m     \u001b[39mreturn\u001b[39;00m multiplied\n\u001b[1;32m----> 8\u001b[0m input_angka \u001b[39m=\u001b[39m \u001b[39mint\u001b[39m(\u001b[39minput\u001b[39m(\u001b[39m\"\u001b[39m\u001b[39mMasukkan angka: \u001b[39m\u001b[39m\"\u001b[39m))\n\u001b[0;32m      9\u001b[0m hasil_akhir \u001b[39m=\u001b[39m multiplied_number(input_angka)\n\u001b[0;32m     10\u001b[0m \u001b[39mprint\u001b[39m(\u001b[39m\"\u001b[39m\u001b[39mHasil angka: \u001b[39m\u001b[39m\"\u001b[39m, hasil_akhir)\n",
      "\u001b[1;31mValueError\u001b[0m: invalid literal for int() with base 10: '2 5 10'"
     ]
    }
   ],
   "source": [
    "import math\n",
    "\n",
    "def multiplied_number(number):\n",
    "    multiplied = number * 5 \n",
    "    print(multiplied)\n",
    "    return multiplied\n",
    "\n",
    "input_angka = int(input(\"Masukkan angka: \"))\n",
    "hasil_akhir = multiplied_number(input_angka)\n",
    "print(\"Hasil angka: \", hasil_akhir)"
   ]
  },
  {
   "cell_type": "code",
   "execution_count": 48,
   "metadata": {},
   "outputs": [
    {
     "data": {
      "text/plain": [
       "'2'"
      ]
     },
     "execution_count": 48,
     "metadata": {},
     "output_type": "execute_result"
    }
   ],
   "source": [
    "input_angka"
   ]
  },
  {
   "cell_type": "code",
   "execution_count": 97,
   "metadata": {},
   "outputs": [
    {
     "ename": "NameError",
     "evalue": "name 'teks' is not defined",
     "output_type": "error",
     "traceback": [
      "\u001b[1;31m---------------------------------------------------------------------------\u001b[0m",
      "\u001b[1;31mNameError\u001b[0m                                 Traceback (most recent call last)",
      "Cell \u001b[1;32mIn[97], line 7\u001b[0m\n\u001b[0;32m      4\u001b[0m     \u001b[39mreturn\u001b[39;00m teks\n\u001b[0;32m      6\u001b[0m Input_teks \u001b[39m=\u001b[39m \u001b[39minput\u001b[39m(\u001b[39m\"\u001b[39m\u001b[39mMasukkan sebuah kalimat:\u001b[39m\u001b[39m\"\u001b[39m)\n\u001b[1;32m----> 7\u001b[0m balik_kata(teks)\n\u001b[0;32m      8\u001b[0m Pembalik_kata \u001b[39m=\u001b[39m balikkata(Input_teks)\n\u001b[0;32m      9\u001b[0m \u001b[39mprint\u001b[39m(\u001b[39m\"\u001b[39m\u001b[39mMasukkan sebuah kalimat: \u001b[39m\u001b[39m\"\u001b[39m, Pembalik_kata)\n",
      "\u001b[1;31mNameError\u001b[0m: name 'teks' is not defined"
     ]
    }
   ],
   "source": [
    "def balik_kata(teks):\n",
    "    teks = input()\n",
    "    teks[::-1]\n",
    "    return teks\n",
    "\n",
    "Input_teks = input(\"Masukkan sebuah kalimat:\")\n",
    "balik_kata(teks)\n",
    "Pembalik_kata = balikkata(Input_teks)\n",
    "print(\"Masukkan sebuah kalimat: \", Pembalik_kata)"
   ]
  },
  {
   "cell_type": "code",
   "execution_count": null,
   "metadata": {},
   "outputs": [],
   "source": []
  }
 ],
 "metadata": {
  "kernelspec": {
   "display_name": "base",
   "language": "python",
   "name": "python3"
  },
  "language_info": {
   "codemirror_mode": {
    "name": "ipython",
    "version": 3
   },
   "file_extension": ".py",
   "mimetype": "text/x-python",
   "name": "python",
   "nbconvert_exporter": "python",
   "pygments_lexer": "ipython3",
   "version": "3.11.4"
  },
  "orig_nbformat": 4
 },
 "nbformat": 4,
 "nbformat_minor": 2
}
