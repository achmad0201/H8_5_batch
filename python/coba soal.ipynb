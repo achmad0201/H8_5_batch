{
 "cells": [
  {
   "cell_type": "markdown",
   "metadata": {},
   "source": [
    "### Soal no 1"
   ]
  },
  {
   "cell_type": "code",
   "execution_count": 18,
   "metadata": {},
   "outputs": [
    {
     "name": "stdout",
     "output_type": "stream",
     "text": [
      "Luas Persegi: 16\n"
     ]
    }
   ],
   "source": [
    "def luas_persegi(sisi):\n",
    "    luas= sisi ** 2\n",
    "    return luas\n",
    "\n",
    "sisi = int(input(\"Masukkan luas persegi\"))\n",
    "Luas_Persegi = luas_persegi(sisi)\n",
    "print('Luas Persegi:', Luas_Persegi)"
   ]
  },
  {
   "cell_type": "markdown",
   "metadata": {},
   "source": [
    "### Soal no 2"
   ]
  },
  {
   "cell_type": "code",
   "execution_count": 36,
   "metadata": {},
   "outputs": [
    {
     "name": "stdout",
     "output_type": "stream",
     "text": [
      "Gaji bersih: 5.0\n"
     ]
    }
   ],
   "source": [
    "def gaji_bersih(gaji_bruto, pajak, potongan):\n",
    "   gaji = gaji_bruto - pajak - potongan\n",
    "   return gaji\n",
    "\n",
    "gaji_bruto = float(input(\"Masukkan gaji bruto:\"))\n",
    "pajak = float(input(\"Masukkan pajak:\"))\n",
    "potongan = float(input(\"Masukkan potongan:\"))\n",
    "Gaji_bersih = gaji_bersih(gaji_bruto, pajak, potongan)\n",
    "print(\"Gaji bersih:\", Gaji_bersih)"
   ]
  },
  {
   "cell_type": "markdown",
   "metadata": {},
   "source": [
    "### Soal no 3"
   ]
  },
  {
   "cell_type": "code",
   "execution_count": 45,
   "metadata": {},
   "outputs": [
    {
     "name": "stdout",
     "output_type": "stream",
     "text": [
      "Deret aritmatika: [4, 9, 14, 19, 24, 29]\n"
     ]
    }
   ],
   "source": [
    "def deret_aritmatika(a, b, n):\n",
    "    deret = []\n",
    "    suku_pertama = a\n",
    "    for a in range(n):\n",
    "        deret.append(suku_pertama)\n",
    "        suku_pertama += b\n",
    "    return deret\n",
    "\n",
    "a = int(input(\"Masukkan a:\"))\n",
    "b = int(input(\"Masukkan b:\"))\n",
    "n = int(input(\"Masukkan n:\"))\n",
    "deret = deret_aritmatika(a, b, n)\n",
    "print(\"Deret aritmatika:\", deret)"
   ]
  },
  {
   "cell_type": "markdown",
   "metadata": {},
   "source": [
    "### Soal no 4"
   ]
  },
  {
   "cell_type": "code",
   "execution_count": 48,
   "metadata": {},
   "outputs": [
    {
     "name": "stdout",
     "output_type": "stream",
     "text": [
      "Suhu fahrenheit 37.77777777777778\n"
     ]
    }
   ],
   "source": [
    "def konversi_fahrenheit_ke_celsius(fahrenheit):\n",
    "    celsius = (fahrenheit - 32) * 5/9\n",
    "    return celsius\n",
    "\n",
    "fahrenheit = int(input(\"Masukkan suhu fahrenheit\"))\n",
    "Suhu = konversi_fahrenheit_ke_celsius(fahrenheit)\n",
    "print(\"Suhu fahrenheit\", Suhu)"
   ]
  },
  {
   "cell_type": "markdown",
   "metadata": {},
   "source": [
    "### Soal no 5"
   ]
  },
  {
   "cell_type": "code",
   "execution_count": 59,
   "metadata": {},
   "outputs": [
    {
     "name": "stdout",
     "output_type": "stream",
     "text": [
      "Hasil: 81\n"
     ]
    }
   ],
   "source": [
    "def pangkat(basis, eksponen):\n",
    "    if eksponen < 0:\n",
    "        return \"eksponen tidak negatif\"\n",
    "    result = 1\n",
    "    for _ in range(eksponen):\n",
    "        result *= basis\n",
    "    return result\n",
    "\n",
    "basis = int(input(\"Masukkan suhu basis\"))\n",
    "eksponen = int(input(\"Masukkan eksponen:\"))\n",
    "Hasil = pangkat(basis, eksponen)\n",
    "print(\"Hasil:\", Hasil)"
   ]
  },
  {
   "cell_type": "code",
   "execution_count": 58,
   "metadata": {},
   "outputs": [
    {
     "name": "stdout",
     "output_type": "stream",
     "text": [
      "Hasil: 81\n"
     ]
    }
   ],
   "source": [
    "def pangkat(basis, eksponen):\n",
    "    if eksponen < 0:\n",
    "        return \"Eksponen harus non-negatif\"\n",
    "    result = 1\n",
    "    for _ in range(eksponen):\n",
    "        result *= basis\n",
    "    return result\n",
    "\n",
    "basis = int(input(\"Masukkan suhu basis\"))\n",
    "eksponen = int(input(\"Masukkan eksponen:\"))\n",
    "Hasil = pangkat(basis, eksponen)\n",
    "print(\"Hasil:\", Hasil)"
   ]
  },
  {
   "cell_type": "code",
   "execution_count": null,
   "metadata": {},
   "outputs": [],
   "source": []
  }
 ],
 "metadata": {
  "kernelspec": {
   "display_name": "base",
   "language": "python",
   "name": "python3"
  },
  "language_info": {
   "codemirror_mode": {
    "name": "ipython",
    "version": 3
   },
   "file_extension": ".py",
   "mimetype": "text/x-python",
   "name": "python",
   "nbconvert_exporter": "python",
   "pygments_lexer": "ipython3",
   "version": "3.11.4"
  },
  "orig_nbformat": 4
 },
 "nbformat": 4,
 "nbformat_minor": 2
}
