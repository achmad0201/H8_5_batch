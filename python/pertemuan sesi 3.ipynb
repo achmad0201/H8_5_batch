{
 "cells": [
  {
   "cell_type": "code",
   "execution_count": 2,
   "metadata": {},
   "outputs": [
    {
     "name": "stdout",
     "output_type": "stream",
     "text": [
      "7.5\n"
     ]
    }
   ],
   "source": [
    "def luas_segitiga(alas, tinggi):\n",
    "    print(0.5 * alas * tinggi)\n",
    "luas_segitiga(3, 5)"
   ]
  },
  {
   "cell_type": "code",
   "execution_count": 3,
   "metadata": {},
   "outputs": [
    {
     "name": "stdout",
     "output_type": "stream",
     "text": [
      "Latihan soal 1\n",
      "latihan soal 2\n"
     ]
    }
   ],
   "source": [
    "def printme(str):\n",
    "    print(str)\n",
    "    return\n",
    "\n",
    "printme(\"Latihan soal 1\")\n",
    "printme(\"latihan soal 2\")"
   ]
  },
  {
   "cell_type": "code",
   "execution_count": 8,
   "metadata": {},
   "outputs": [
    {
     "name": "stdout",
     "output_type": "stream",
     "text": [
      "tes data:  [1, 5, 9, 10, [3, 4, 7, 8]]\n",
      "tes data 2:  [1, 5, 9, 10, [3, 4, 7, 8]]\n"
     ]
    }
   ],
   "source": [
    "def changeme(list_data):\n",
    "    list_data.append([3, 4, 7, 8])\n",
    "    print(\"tes data: \", list_data)\n",
    "    return\n",
    "\n",
    "list_data = ([1, 5, 9, 10])\n",
    "changeme(list_data)\n",
    "print(\"tes data 2: \", list_data)"
   ]
  },
  {
   "cell_type": "code",
   "execution_count": 10,
   "metadata": {},
   "outputs": [
    {
     "data": {
      "text/plain": [
       "60"
      ]
     },
     "execution_count": 10,
     "metadata": {},
     "output_type": "execute_result"
    }
   ],
   "source": [
    "import math\n",
    "\n",
    "def volume_kubus(sisi):\n",
    "    volume = 3 * sisi\n",
    "    return volume\n",
    "\n",
    "volume_kubus(20)\n"
   ]
  },
  {
   "cell_type": "code",
   "execution_count": 14,
   "metadata": {},
   "outputs": [
    {
     "name": "stdout",
     "output_type": "stream",
     "text": [
      "tes data:  [3, 4, 7, 8]\n",
      "tes data 2:  [1, 5, 9, 10, [3, 4, 7, 8], [1, 5, 9, 10], [1, 5, 9, 10], [1, 5, 9, 10], [1, 5, 9, 10]]\n"
     ]
    }
   ],
   "source": [
    "def changeme(list_data):\n",
    "    list_data = ([3, 4, 7, 8])\n",
    "    print(\"tes data: \", list_data)\n",
    "    return\n",
    "\n",
    "list_data.append([1, 5, 9, 10])\n",
    "changeme(list_data)\n",
    "print(\"tes data 2: \", list_data)"
   ]
  },
  {
   "cell_type": "code",
   "execution_count": 17,
   "metadata": {},
   "outputs": [
    {
     "name": "stdout",
     "output_type": "stream",
     "text": [
      "Nama: tes\n",
      "umur: 3\n"
     ]
    }
   ],
   "source": [
    "def info(umur, nama):\n",
    "    print(\"Nama:\", nama)\n",
    "    print(\"umur:\", umur)\n",
    "    return\n",
    "\n",
    "info(umur = 3, nama = 'tes')"
   ]
  },
  {
   "cell_type": "code",
   "execution_count": 18,
   "metadata": {},
   "outputs": [
    {
     "name": "stdout",
     "output_type": "stream",
     "text": [
      "value of total: 30\n"
     ]
    }
   ],
   "source": [
    "def sum(arg1, arg2):\n",
    "    return arg1 + arg2\n",
    "\n",
    "print(\"value of total:\", sum(10, 20))"
   ]
  },
  {
   "cell_type": "code",
   "execution_count": 25,
   "metadata": {},
   "outputs": [
    {
     "name": "stdout",
     "output_type": "stream",
     "text": [
      "input is:\n",
      "10\n",
      "input is:\n",
      "70\n",
      "60\n",
      "50\n",
      "a\n"
     ]
    }
   ],
   "source": [
    "def info(arg1, *data):\n",
    "    print(\"input is:\")\n",
    "    print(arg1)\n",
    "    for var in data:\n",
    "        print(var)\n",
    "    return\n",
    "\n",
    "info(10)\n",
    "info(70, 60, 50, \"a\")"
   ]
  },
  {
   "cell_type": "code",
   "execution_count": 27,
   "metadata": {},
   "outputs": [
    {
     "name": "stdout",
     "output_type": "stream",
     "text": [
      "input is:\n",
      "10\n",
      "input is:\n",
      "70\n",
      "60\n",
      "50\n",
      "a\n",
      "input is:\n",
      "20\n",
      "20\n",
      "30\n"
     ]
    }
   ],
   "source": [
    "def info(arg1, *data):\n",
    "    print(\"input is:\")\n",
    "    print(arg1)\n",
    "    for var in data:\n",
    "        print(var)\n",
    "    return\n",
    "\n",
    "def info(arg2,*list_data):\n",
    "    print(\"input is:\")\n",
    "    print(arg2)\n",
    "    for var in list_data:\n",
    "        print(var)\n",
    "    return\n",
    "\n",
    "info(10)\n",
    "info(70, 60, 50, \"a\")\n",
    "datainfo(20, 20, 30)    "
   ]
  },
  {
   "cell_type": "code",
   "execution_count": null,
   "metadata": {},
   "outputs": [],
   "source": []
  }
 ],
 "metadata": {
  "kernelspec": {
   "display_name": "base",
   "language": "python",
   "name": "python3"
  },
  "language_info": {
   "codemirror_mode": {
    "name": "ipython",
    "version": 3
   },
   "file_extension": ".py",
   "mimetype": "text/x-python",
   "name": "python",
   "nbconvert_exporter": "python",
   "pygments_lexer": "ipython3",
   "version": "3.11.4"
  },
  "orig_nbformat": 4
 },
 "nbformat": 4,
 "nbformat_minor": 2
}
