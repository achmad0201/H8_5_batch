{
 "cells": [
  {
   "cell_type": "markdown",
   "metadata": {},
   "source": [
    "## Latihan sesi 2"
   ]
  },
  {
   "cell_type": "markdown",
   "metadata": {},
   "source": [
    "### Soal no 1"
   ]
  },
  {
   "cell_type": "code",
   "execution_count": 3,
   "metadata": {},
   "outputs": [
    {
     "name": "stdout",
     "output_type": "stream",
     "text": [
      "Bilangan positif\n"
     ]
    }
   ],
   "source": [
    "bilangan = int(input(\"Masukkan bilangan: \"))\n",
    "if bilangan == 0:\n",
    "    print(\"0 Bukanlah Bilangan Ganjil Maupun Genap\")\n",
    "elif bilangan < 0:\n",
    "    print(\"Bilangan negatif\")\n",
    "elif bilangan > 0:\n",
    "    print(\"Bilangan positif\")\n",
    "elif bilangan %2:\n",
    "    print(\"bilangan ganjil\")\n",
    "else:\n",
    "    print(\"Bilangan genap\")"
   ]
  },
  {
   "cell_type": "markdown",
   "metadata": {},
   "source": [
    "### soal no 2"
   ]
  },
  {
   "cell_type": "code",
   "execution_count": 2,
   "metadata": {},
   "outputs": [
    {
     "name": "stdout",
     "output_type": "stream",
     "text": [
      "Masukkan angka 1 untuk menghitung luas segitiga 900.0\n"
     ]
    }
   ],
   "source": [
    "Rumus = int(input('Plih Rumus: '))\n",
    "\n",
    "if Rumus == 1: \n",
    "    alas = float(input(\"Masukkan alas segitiga:\"))\n",
    "    tinggi = float(input(\"Masukkan tinggi segitiga:\"))\n",
    "    luas_segitiga = 0.5 * alas * tinggi\n",
    "    print(\"Masukkan angka 1 untuk menghitung luas segitiga\", luas_segitiga)\n",
    "elif Rumus == 2: \n",
    "    sisi = float(input(\"Masukkan sisi persegi:\"))\n",
    "    luas_persegi = sisi ** 2\n",
    "    print(\"Masukkan angka 1 untuk menghitung luas segitiga\", luas_persegi)\n",
    "else:\n",
    "    print(\"masukkan angka yang benar\")"
   ]
  },
  {
   "cell_type": "markdown",
   "metadata": {},
   "source": [
    "### soal no 4"
   ]
  },
  {
   "cell_type": "code",
   "execution_count": 3,
   "metadata": {},
   "outputs": [
    {
     "name": "stdout",
     "output_type": "stream",
     "text": [
      "Sebuah kalimat\n"
     ]
    }
   ],
   "source": [
    "kalimat = input(\"Masukkan sebuah kalimat:\")\n",
    "\n",
    "if len(kalimat) == 0:\n",
    "    print(\"Sebuah kalimat\")\n",
    "elif len(kalimat) >= 50:\n",
    "    print(\"Kalimat telalu panjang\")\n",
    "else:\n",
    "    print(\"Hasil kalimat:\", kalimat)"
   ]
  }
 ],
 "metadata": {
  "kernelspec": {
   "display_name": "base",
   "language": "python",
   "name": "python3"
  },
  "language_info": {
   "codemirror_mode": {
    "name": "ipython",
    "version": 3
   },
   "file_extension": ".py",
   "mimetype": "text/x-python",
   "name": "python",
   "nbconvert_exporter": "python",
   "pygments_lexer": "ipython3",
   "version": "3.11.4"
  },
  "orig_nbformat": 4
 },
 "nbformat": 4,
 "nbformat_minor": 2
}
